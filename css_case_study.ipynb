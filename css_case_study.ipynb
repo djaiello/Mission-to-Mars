{
 "cells": [
  {
   "cell_type": "code",
   "execution_count": 1,
   "id": "a63f5892",
   "metadata": {},
   "outputs": [],
   "source": [
    "# Import dependencies\n",
    "from bs4 import BeautifulSoup as soup"
   ]
  },
  {
   "cell_type": "code",
   "execution_count": 2,
   "id": "57487674",
   "metadata": {},
   "outputs": [],
   "source": [
    "# Assign HTML/CSS code from example website\n",
    "html = \"\"\"\n",
    "<!DOCTYPE html>\n",
    "<html lang=\"en\">\n",
    "\n",
    "<head>\n",
    "    <meta charset=\"UTF-8\">\n",
    "    <meta http-equiv=\"X-UA-Compatible\" content=\"IE=edge\">\n",
    "    <meta name=\"viewport\" content=\"width=device-width, initial-scale=1.0\">\n",
    "    <title>Document</title>\n",
    "</head>\n",
    "\n",
    "<style>\n",
    "    .even {\n",
    "        color: blue;\n",
    "    }\n",
    "\n",
    "    .odd {\n",
    "        color: green;\n",
    "    }\n",
    "</style>\n",
    "\n",
    "<body>\n",
    "    <div>\n",
    "        <p class=\"odd\" id=\"first\">First</p>\n",
    "        <p class=\"even\" id=\"second\">Second</p>\n",
    "        <p class=\"odd\" id=\"third\">Third</p>\n",
    "    </div>\n",
    "\n",
    "    <div>\n",
    "        <p class=\"even\" id=\"fourth\">Fourth</p>\n",
    "        <p class=\"odd\" id=\"fifth\">Fifth</p>\n",
    "        <p class=\"even\" id=\"sixth\">Sixth</p>\n",
    "    </div>\n",
    "</body>\n",
    "\n",
    "</html>\n",
    "\"\"\""
   ]
  },
  {
   "cell_type": "code",
   "execution_count": 3,
   "id": "38b4636a",
   "metadata": {},
   "outputs": [],
   "source": [
    "# Parse the HTML block into a Beautiful Soup object\n",
    "html_soup = soup(html, 'html.parser')"
   ]
  },
  {
   "cell_type": "code",
   "execution_count": 4,
   "id": "7130fd4e",
   "metadata": {},
   "outputs": [],
   "source": [
    "#################################    CSS Case Study: Part 1    #################################\n",
    "\n",
    "# Find and assign all intances of \"p\" tag, where class equals \"odd\"\n",
    "odds = html_soup.find_all(\"p\", class_=\"odd\")   # Note \"class_\" NOT \"class\"(reserved word)"
   ]
  },
  {
   "cell_type": "code",
   "execution_count": 5,
   "id": "d72cb0e4",
   "metadata": {},
   "outputs": [
    {
     "name": "stdout",
     "output_type": "stream",
     "text": [
      "<p class=\"odd\" id=\"first\">First</p>\n",
      "<p class=\"odd\" id=\"third\">Third</p>\n",
      "<p class=\"odd\" id=\"fifth\">Fifth</p>\n"
     ]
    }
   ],
   "source": [
    "# Iterate through results and print\n",
    "for odd in odds:\n",
    "    print(odd)"
   ]
  },
  {
   "cell_type": "code",
   "execution_count": 6,
   "id": "9f934aa1",
   "metadata": {},
   "outputs": [
    {
     "name": "stdout",
     "output_type": "stream",
     "text": [
      "First\n",
      "Third\n",
      "Fifth\n"
     ]
    }
   ],
   "source": [
    "# SKILL DRILL\n",
    "\n",
    "# Print only the text of the paragraphs\n",
    "for odd in odds:\n",
    "    print(odd.text)"
   ]
  },
  {
   "cell_type": "code",
   "execution_count": 14,
   "id": "8c8a372d",
   "metadata": {},
   "outputs": [
    {
     "name": "stdout",
     "output_type": "stream",
     "text": [
      "['First', 'Third', 'Fifth']\n"
     ]
    }
   ],
   "source": [
    "# Repeat last using Python List Comprehension\n",
    "odd_text = [odd.text for odd in odds]\n",
    "print(odd_text)"
   ]
  },
  {
   "cell_type": "code",
   "execution_count": 7,
   "id": "ef15b034",
   "metadata": {},
   "outputs": [
    {
     "name": "stdout",
     "output_type": "stream",
     "text": [
      "Second\n",
      "Fourth\n",
      "Sixth\n"
     ]
    }
   ],
   "source": [
    "# Print text only of \"even\" class elements\n",
    "evens = html_soup.find_all(\"p\", class_=\"even\")\n",
    "for even in evens:\n",
    "    print(even.text)"
   ]
  },
  {
   "cell_type": "code",
   "execution_count": 17,
   "id": "cd7721e8",
   "metadata": {},
   "outputs": [
    {
     "name": "stdout",
     "output_type": "stream",
     "text": [
      "First\n"
     ]
    }
   ],
   "source": [
    "#################################    CSS Case Study: Part 2    #################################\n",
    "\n",
    "# Scrape text from a paragraph element with id equal to \"first\"\n",
    "first = html_soup.find(\"p\", id=\"first\")\n",
    "print(first.text)"
   ]
  },
  {
   "cell_type": "code",
   "execution_count": null,
   "id": "0a80e48c",
   "metadata": {},
   "outputs": [],
   "source": []
  },
  {
   "cell_type": "code",
   "execution_count": null,
   "id": "f35d372b",
   "metadata": {},
   "outputs": [],
   "source": []
  },
  {
   "cell_type": "code",
   "execution_count": null,
   "id": "e0b32882",
   "metadata": {},
   "outputs": [],
   "source": []
  },
  {
   "cell_type": "code",
   "execution_count": null,
   "id": "4ad1e825",
   "metadata": {},
   "outputs": [],
   "source": []
  },
  {
   "cell_type": "code",
   "execution_count": null,
   "id": "8dcb4654",
   "metadata": {},
   "outputs": [],
   "source": []
  },
  {
   "cell_type": "code",
   "execution_count": null,
   "id": "d020ef57",
   "metadata": {},
   "outputs": [],
   "source": []
  },
  {
   "cell_type": "code",
   "execution_count": null,
   "id": "81d5a075",
   "metadata": {},
   "outputs": [],
   "source": []
  },
  {
   "cell_type": "code",
   "execution_count": null,
   "id": "a65db5c8",
   "metadata": {},
   "outputs": [],
   "source": []
  },
  {
   "cell_type": "code",
   "execution_count": null,
   "id": "490cffb2",
   "metadata": {},
   "outputs": [],
   "source": []
  },
  {
   "cell_type": "code",
   "execution_count": null,
   "id": "e097cdfd",
   "metadata": {},
   "outputs": [],
   "source": []
  },
  {
   "cell_type": "code",
   "execution_count": null,
   "id": "912e9d13",
   "metadata": {},
   "outputs": [],
   "source": []
  }
 ],
 "metadata": {
  "kernelspec": {
   "display_name": "PythonData",
   "language": "python",
   "name": "pythondata"
  },
  "language_info": {
   "codemirror_mode": {
    "name": "ipython",
    "version": 3
   },
   "file_extension": ".py",
   "mimetype": "text/x-python",
   "name": "python",
   "nbconvert_exporter": "python",
   "pygments_lexer": "ipython3",
   "version": "3.7.13"
  }
 },
 "nbformat": 4,
 "nbformat_minor": 5
}
